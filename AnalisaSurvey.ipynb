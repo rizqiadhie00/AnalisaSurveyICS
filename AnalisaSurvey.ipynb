{
 "cells": [
  {
   "attachments": {},
   "cell_type": "markdown",
   "metadata": {},
   "source": [
    "## Analisa Survey Peserta Paket Belajar ICS Cademy"
   ]
  },
  {
   "cell_type": "code",
   "execution_count": 1,
   "metadata": {},
   "outputs": [],
   "source": [
    "import pandas as pd\n",
    "import matplotlib.pyplot as plt\n",
    "import numpy as np\n",
    "import seaborn as sns\n",
    "import scipy.stats as st"
   ]
  },
  {
   "attachments": {},
   "cell_type": "markdown",
   "metadata": {},
   "source": [
    "### Import Data Survey Peserta"
   ]
  },
  {
   "cell_type": "code",
   "execution_count": 2,
   "metadata": {},
   "outputs": [
    {
     "data": {
      "text/html": [
       "<div>\n",
       "<style scoped>\n",
       "    .dataframe tbody tr th:only-of-type {\n",
       "        vertical-align: middle;\n",
       "    }\n",
       "\n",
       "    .dataframe tbody tr th {\n",
       "        vertical-align: top;\n",
       "    }\n",
       "\n",
       "    .dataframe thead th {\n",
       "        text-align: right;\n",
       "    }\n",
       "</style>\n",
       "<table border=\"1\" class=\"dataframe\">\n",
       "  <thead>\n",
       "    <tr style=\"text-align: right;\">\n",
       "      <th></th>\n",
       "      <th>Timestamp</th>\n",
       "      <th>Asal Daerah</th>\n",
       "      <th>Status Pekerjaan</th>\n",
       "      <th>Rentang Umur</th>\n",
       "      <th>Darimana Anda Mendaftar Paket Belajar ICS ?</th>\n",
       "      <th>Paket Belajar Apakah yang anda Daftar Pertama kali?</th>\n",
       "      <th>Lebih Suka Mengisi Form dengan</th>\n",
       "      <th>Pada Pukul Berapa Anda Mendaftar Paket Belajar</th>\n",
       "      <th>Apakah Perlu Ditambahkan Metode Pembayaran E-Wallet (Gopay, OVO, ShopeePay)</th>\n",
       "      <th>Materi Apa yang Diperlukan Selanjutnya Menurut Anda ?</th>\n",
       "    </tr>\n",
       "  </thead>\n",
       "  <tbody>\n",
       "    <tr>\n",
       "      <th>0</th>\n",
       "      <td>2/23/2023 15:09:23</td>\n",
       "      <td>DI Yogyakarta</td>\n",
       "      <td>Sudah Bekerja</td>\n",
       "      <td>24-35</td>\n",
       "      <td>Instagram</td>\n",
       "      <td>Paket Belajar PLC</td>\n",
       "      <td>Google Form</td>\n",
       "      <td>08.00 - 12.00</td>\n",
       "      <td>Ya</td>\n",
       "      <td>IIoT</td>\n",
       "    </tr>\n",
       "    <tr>\n",
       "      <th>1</th>\n",
       "      <td>2/23/2023 15:09:53</td>\n",
       "      <td>Jawa Tengah</td>\n",
       "      <td>Sudah Bekerja</td>\n",
       "      <td>24-35</td>\n",
       "      <td>Facebook</td>\n",
       "      <td>Paket Belajar PLC</td>\n",
       "      <td>Google Form</td>\n",
       "      <td>16.00 - 18.00</td>\n",
       "      <td>Ya</td>\n",
       "      <td>Paket scada yang lain</td>\n",
       "    </tr>\n",
       "    <tr>\n",
       "      <th>2</th>\n",
       "      <td>2/23/2023 15:09:54</td>\n",
       "      <td>Jabodetabek</td>\n",
       "      <td>Sudah Bekerja</td>\n",
       "      <td>24-35</td>\n",
       "      <td>Instagram</td>\n",
       "      <td>Paket Belajar PLC</td>\n",
       "      <td>Google Form</td>\n",
       "      <td>16.00 - 18.00</td>\n",
       "      <td>Tidak</td>\n",
       "      <td>weighing dengan hmi</td>\n",
       "    </tr>\n",
       "    <tr>\n",
       "      <th>3</th>\n",
       "      <td>2/23/2023 15:09:56</td>\n",
       "      <td>Jawa Barat</td>\n",
       "      <td>Mahasiswa atau Fresh Graduate</td>\n",
       "      <td>18-24</td>\n",
       "      <td>Instagram</td>\n",
       "      <td>Paket Belajar PLC</td>\n",
       "      <td>Google Form</td>\n",
       "      <td>16.00 - 18.00</td>\n",
       "      <td>Ya</td>\n",
       "      <td>Machine Learning untuk perbaikan mesin yang ka...</td>\n",
       "    </tr>\n",
       "    <tr>\n",
       "      <th>4</th>\n",
       "      <td>2/23/2023 15:10:18</td>\n",
       "      <td>Jawa Tengah</td>\n",
       "      <td>Sudah Bekerja</td>\n",
       "      <td>Lebih dari 35</td>\n",
       "      <td>Facebook</td>\n",
       "      <td>Paket Belajar PLC</td>\n",
       "      <td>Google Form</td>\n",
       "      <td>Diatas 20.00</td>\n",
       "      <td>Tidak</td>\n",
       "      <td>Iiot, scada, plc</td>\n",
       "    </tr>\n",
       "  </tbody>\n",
       "</table>\n",
       "</div>"
      ],
      "text/plain": [
       "            Timestamp   Asal Daerah                Status Pekerjaan   \n",
       "0  2/23/2023 15:09:23  DI Yogyakarta                  Sudah Bekerja  \\\n",
       "1  2/23/2023 15:09:53    Jawa Tengah                  Sudah Bekerja   \n",
       "2  2/23/2023 15:09:54    Jabodetabek                  Sudah Bekerja   \n",
       "3  2/23/2023 15:09:56     Jawa Barat  Mahasiswa atau Fresh Graduate   \n",
       "4  2/23/2023 15:10:18    Jawa Tengah                  Sudah Bekerja   \n",
       "\n",
       "    Rentang Umur Darimana Anda Mendaftar Paket Belajar ICS ?   \n",
       "0          24-35                                   Instagram  \\\n",
       "1          24-35                                    Facebook   \n",
       "2          24-35                                   Instagram   \n",
       "3          18-24                                   Instagram   \n",
       "4  Lebih dari 35                                    Facebook   \n",
       "\n",
       "  Paket Belajar Apakah yang anda Daftar Pertama kali?   \n",
       "0                                  Paket Belajar PLC   \\\n",
       "1                                  Paket Belajar PLC    \n",
       "2                                  Paket Belajar PLC    \n",
       "3                                  Paket Belajar PLC    \n",
       "4                                  Paket Belajar PLC    \n",
       "\n",
       "  Lebih Suka Mengisi Form dengan   \n",
       "0                    Google Form  \\\n",
       "1                    Google Form   \n",
       "2                    Google Form   \n",
       "3                    Google Form   \n",
       "4                    Google Form   \n",
       "\n",
       "  Pada Pukul Berapa Anda Mendaftar Paket Belajar   \n",
       "0                                  08.00 - 12.00  \\\n",
       "1                                  16.00 - 18.00   \n",
       "2                                  16.00 - 18.00   \n",
       "3                                  16.00 - 18.00   \n",
       "4                                   Diatas 20.00   \n",
       "\n",
       "  Apakah Perlu Ditambahkan Metode Pembayaran E-Wallet (Gopay, OVO, ShopeePay)   \n",
       "0                                                 Ya                           \\\n",
       "1                                                 Ya                            \n",
       "2                                              Tidak                            \n",
       "3                                                 Ya                            \n",
       "4                                              Tidak                            \n",
       "\n",
       "  Materi Apa yang Diperlukan Selanjutnya Menurut Anda ?  \n",
       "0                                               IIoT     \n",
       "1                              Paket scada yang lain     \n",
       "2                                weighing dengan hmi     \n",
       "3  Machine Learning untuk perbaikan mesin yang ka...     \n",
       "4                                  Iiot, scada, plc      "
      ]
     },
     "execution_count": 2,
     "metadata": {},
     "output_type": "execute_result"
    }
   ],
   "source": [
    "data = pd.read_csv(\"survey_ics.csv\")\n",
    "\n",
    "#Setelah data diimport maka langkah selanjutnya di cek head\n",
    "\n",
    "data.head()"
   ]
  },
  {
   "attachments": {},
   "cell_type": "markdown",
   "metadata": {},
   "source": [
    "Karena kita tidak perlu menggunakan kolom terakhir, yakni kolom saran tentang materi baru untuk bulan-bulan berikutnya, maka kita akan menghapus kolom tersebut"
   ]
  },
  {
   "cell_type": "code",
   "execution_count": 3,
   "metadata": {},
   "outputs": [],
   "source": [
    "data = data.drop(['Timestamp'], axis=1)"
   ]
  },
  {
   "attachments": {},
   "cell_type": "markdown",
   "metadata": {},
   "source": [
    "#### Cek Ulang Data"
   ]
  },
  {
   "cell_type": "code",
   "execution_count": 4,
   "metadata": {},
   "outputs": [
    {
     "data": {
      "text/html": [
       "<div>\n",
       "<style scoped>\n",
       "    .dataframe tbody tr th:only-of-type {\n",
       "        vertical-align: middle;\n",
       "    }\n",
       "\n",
       "    .dataframe tbody tr th {\n",
       "        vertical-align: top;\n",
       "    }\n",
       "\n",
       "    .dataframe thead th {\n",
       "        text-align: right;\n",
       "    }\n",
       "</style>\n",
       "<table border=\"1\" class=\"dataframe\">\n",
       "  <thead>\n",
       "    <tr style=\"text-align: right;\">\n",
       "      <th></th>\n",
       "      <th>Asal Daerah</th>\n",
       "      <th>Status Pekerjaan</th>\n",
       "      <th>Rentang Umur</th>\n",
       "      <th>Darimana Anda Mendaftar Paket Belajar ICS ?</th>\n",
       "      <th>Paket Belajar Apakah yang anda Daftar Pertama kali?</th>\n",
       "      <th>Lebih Suka Mengisi Form dengan</th>\n",
       "      <th>Pada Pukul Berapa Anda Mendaftar Paket Belajar</th>\n",
       "      <th>Apakah Perlu Ditambahkan Metode Pembayaran E-Wallet (Gopay, OVO, ShopeePay)</th>\n",
       "      <th>Materi Apa yang Diperlukan Selanjutnya Menurut Anda ?</th>\n",
       "    </tr>\n",
       "  </thead>\n",
       "  <tbody>\n",
       "    <tr>\n",
       "      <th>0</th>\n",
       "      <td>DI Yogyakarta</td>\n",
       "      <td>Sudah Bekerja</td>\n",
       "      <td>24-35</td>\n",
       "      <td>Instagram</td>\n",
       "      <td>Paket Belajar PLC</td>\n",
       "      <td>Google Form</td>\n",
       "      <td>08.00 - 12.00</td>\n",
       "      <td>Ya</td>\n",
       "      <td>IIoT</td>\n",
       "    </tr>\n",
       "    <tr>\n",
       "      <th>1</th>\n",
       "      <td>Jawa Tengah</td>\n",
       "      <td>Sudah Bekerja</td>\n",
       "      <td>24-35</td>\n",
       "      <td>Facebook</td>\n",
       "      <td>Paket Belajar PLC</td>\n",
       "      <td>Google Form</td>\n",
       "      <td>16.00 - 18.00</td>\n",
       "      <td>Ya</td>\n",
       "      <td>Paket scada yang lain</td>\n",
       "    </tr>\n",
       "    <tr>\n",
       "      <th>2</th>\n",
       "      <td>Jabodetabek</td>\n",
       "      <td>Sudah Bekerja</td>\n",
       "      <td>24-35</td>\n",
       "      <td>Instagram</td>\n",
       "      <td>Paket Belajar PLC</td>\n",
       "      <td>Google Form</td>\n",
       "      <td>16.00 - 18.00</td>\n",
       "      <td>Tidak</td>\n",
       "      <td>weighing dengan hmi</td>\n",
       "    </tr>\n",
       "    <tr>\n",
       "      <th>3</th>\n",
       "      <td>Jawa Barat</td>\n",
       "      <td>Mahasiswa atau Fresh Graduate</td>\n",
       "      <td>18-24</td>\n",
       "      <td>Instagram</td>\n",
       "      <td>Paket Belajar PLC</td>\n",
       "      <td>Google Form</td>\n",
       "      <td>16.00 - 18.00</td>\n",
       "      <td>Ya</td>\n",
       "      <td>Machine Learning untuk perbaikan mesin yang ka...</td>\n",
       "    </tr>\n",
       "    <tr>\n",
       "      <th>4</th>\n",
       "      <td>Jawa Tengah</td>\n",
       "      <td>Sudah Bekerja</td>\n",
       "      <td>Lebih dari 35</td>\n",
       "      <td>Facebook</td>\n",
       "      <td>Paket Belajar PLC</td>\n",
       "      <td>Google Form</td>\n",
       "      <td>Diatas 20.00</td>\n",
       "      <td>Tidak</td>\n",
       "      <td>Iiot, scada, plc</td>\n",
       "    </tr>\n",
       "  </tbody>\n",
       "</table>\n",
       "</div>"
      ],
      "text/plain": [
       "    Asal Daerah                Status Pekerjaan   Rentang Umur   \n",
       "0  DI Yogyakarta                  Sudah Bekerja          24-35  \\\n",
       "1    Jawa Tengah                  Sudah Bekerja          24-35   \n",
       "2    Jabodetabek                  Sudah Bekerja          24-35   \n",
       "3     Jawa Barat  Mahasiswa atau Fresh Graduate          18-24   \n",
       "4    Jawa Tengah                  Sudah Bekerja  Lebih dari 35   \n",
       "\n",
       "  Darimana Anda Mendaftar Paket Belajar ICS ?   \n",
       "0                                   Instagram  \\\n",
       "1                                    Facebook   \n",
       "2                                   Instagram   \n",
       "3                                   Instagram   \n",
       "4                                    Facebook   \n",
       "\n",
       "  Paket Belajar Apakah yang anda Daftar Pertama kali?   \n",
       "0                                  Paket Belajar PLC   \\\n",
       "1                                  Paket Belajar PLC    \n",
       "2                                  Paket Belajar PLC    \n",
       "3                                  Paket Belajar PLC    \n",
       "4                                  Paket Belajar PLC    \n",
       "\n",
       "  Lebih Suka Mengisi Form dengan   \n",
       "0                    Google Form  \\\n",
       "1                    Google Form   \n",
       "2                    Google Form   \n",
       "3                    Google Form   \n",
       "4                    Google Form   \n",
       "\n",
       "  Pada Pukul Berapa Anda Mendaftar Paket Belajar   \n",
       "0                                  08.00 - 12.00  \\\n",
       "1                                  16.00 - 18.00   \n",
       "2                                  16.00 - 18.00   \n",
       "3                                  16.00 - 18.00   \n",
       "4                                   Diatas 20.00   \n",
       "\n",
       "  Apakah Perlu Ditambahkan Metode Pembayaran E-Wallet (Gopay, OVO, ShopeePay)   \n",
       "0                                                 Ya                           \\\n",
       "1                                                 Ya                            \n",
       "2                                              Tidak                            \n",
       "3                                                 Ya                            \n",
       "4                                              Tidak                            \n",
       "\n",
       "  Materi Apa yang Diperlukan Selanjutnya Menurut Anda ?  \n",
       "0                                               IIoT     \n",
       "1                              Paket scada yang lain     \n",
       "2                                weighing dengan hmi     \n",
       "3  Machine Learning untuk perbaikan mesin yang ka...     \n",
       "4                                  Iiot, scada, plc      "
      ]
     },
     "execution_count": 4,
     "metadata": {},
     "output_type": "execute_result"
    }
   ],
   "source": [
    "data.head()"
   ]
  },
  {
   "attachments": {},
   "cell_type": "markdown",
   "metadata": {},
   "source": [
    "#### Kita cek secara Deskriptif"
   ]
  },
  {
   "cell_type": "code",
   "execution_count": 5,
   "metadata": {},
   "outputs": [
    {
     "data": {
      "text/html": [
       "<div>\n",
       "<style scoped>\n",
       "    .dataframe tbody tr th:only-of-type {\n",
       "        vertical-align: middle;\n",
       "    }\n",
       "\n",
       "    .dataframe tbody tr th {\n",
       "        vertical-align: top;\n",
       "    }\n",
       "\n",
       "    .dataframe thead th {\n",
       "        text-align: right;\n",
       "    }\n",
       "</style>\n",
       "<table border=\"1\" class=\"dataframe\">\n",
       "  <thead>\n",
       "    <tr style=\"text-align: right;\">\n",
       "      <th></th>\n",
       "      <th>Asal Daerah</th>\n",
       "      <th>Status Pekerjaan</th>\n",
       "      <th>Rentang Umur</th>\n",
       "      <th>Darimana Anda Mendaftar Paket Belajar ICS ?</th>\n",
       "      <th>Paket Belajar Apakah yang anda Daftar Pertama kali?</th>\n",
       "      <th>Lebih Suka Mengisi Form dengan</th>\n",
       "      <th>Pada Pukul Berapa Anda Mendaftar Paket Belajar</th>\n",
       "      <th>Apakah Perlu Ditambahkan Metode Pembayaran E-Wallet (Gopay, OVO, ShopeePay)</th>\n",
       "      <th>Materi Apa yang Diperlukan Selanjutnya Menurut Anda ?</th>\n",
       "    </tr>\n",
       "  </thead>\n",
       "  <tbody>\n",
       "    <tr>\n",
       "      <th>count</th>\n",
       "      <td>219</td>\n",
       "      <td>219</td>\n",
       "      <td>219</td>\n",
       "      <td>219</td>\n",
       "      <td>219</td>\n",
       "      <td>219</td>\n",
       "      <td>219</td>\n",
       "      <td>219</td>\n",
       "      <td>219</td>\n",
       "    </tr>\n",
       "    <tr>\n",
       "      <th>unique</th>\n",
       "      <td>23</td>\n",
       "      <td>2</td>\n",
       "      <td>3</td>\n",
       "      <td>4</td>\n",
       "      <td>5</td>\n",
       "      <td>2</td>\n",
       "      <td>5</td>\n",
       "      <td>2</td>\n",
       "      <td>209</td>\n",
       "    </tr>\n",
       "    <tr>\n",
       "      <th>top</th>\n",
       "      <td>Jabodetabek</td>\n",
       "      <td>Sudah Bekerja</td>\n",
       "      <td>24-35</td>\n",
       "      <td>Instagram</td>\n",
       "      <td>Paket Belajar PLC</td>\n",
       "      <td>Google Form</td>\n",
       "      <td>18.00 - 20.00</td>\n",
       "      <td>Ya</td>\n",
       "      <td>DCS</td>\n",
       "    </tr>\n",
       "    <tr>\n",
       "      <th>freq</th>\n",
       "      <td>52</td>\n",
       "      <td>180</td>\n",
       "      <td>97</td>\n",
       "      <td>104</td>\n",
       "      <td>121</td>\n",
       "      <td>165</td>\n",
       "      <td>58</td>\n",
       "      <td>153</td>\n",
       "      <td>4</td>\n",
       "    </tr>\n",
       "  </tbody>\n",
       "</table>\n",
       "</div>"
      ],
      "text/plain": [
       "       Asal Daerah  Status Pekerjaan Rentang Umur   \n",
       "count           219              219          219  \\\n",
       "unique           23                2            3   \n",
       "top     Jabodetabek    Sudah Bekerja        24-35   \n",
       "freq             52              180           97   \n",
       "\n",
       "       Darimana Anda Mendaftar Paket Belajar ICS ?   \n",
       "count                                          219  \\\n",
       "unique                                           4   \n",
       "top                                      Instagram   \n",
       "freq                                           104   \n",
       "\n",
       "       Paket Belajar Apakah yang anda Daftar Pertama kali?   \n",
       "count                                                 219   \\\n",
       "unique                                                  5    \n",
       "top                                     Paket Belajar PLC    \n",
       "freq                                                  121    \n",
       "\n",
       "       Lebih Suka Mengisi Form dengan   \n",
       "count                             219  \\\n",
       "unique                              2   \n",
       "top                       Google Form   \n",
       "freq                              165   \n",
       "\n",
       "       Pada Pukul Berapa Anda Mendaftar Paket Belajar   \n",
       "count                                             219  \\\n",
       "unique                                              5   \n",
       "top                                     18.00 - 20.00   \n",
       "freq                                               58   \n",
       "\n",
       "       Apakah Perlu Ditambahkan Metode Pembayaran E-Wallet (Gopay, OVO, ShopeePay)   \n",
       "count                                                 219                           \\\n",
       "unique                                                  2                            \n",
       "top                                                    Ya                            \n",
       "freq                                                  153                            \n",
       "\n",
       "       Materi Apa yang Diperlukan Selanjutnya Menurut Anda ?  \n",
       "count                                                 219     \n",
       "unique                                                209     \n",
       "top                                                   DCS     \n",
       "freq                                                    4     "
      ]
     },
     "execution_count": 5,
     "metadata": {},
     "output_type": "execute_result"
    }
   ],
   "source": [
    "#Dikarenakan semua kolom memiliki bentuk kategorikal maka kita akan menggunakan describe yang menggunakan np object\n",
    "data.describe()"
   ]
  },
  {
   "attachments": {},
   "cell_type": "markdown",
   "metadata": {},
   "source": [
    "Dapat dilihat bahwa, dari survey ditemukan bahwa Peserta terbanyak berasal dari Daerah Jabodetabek, dengan status Sudah Bekerja, kemudian mempunyai rentang umur 24-35"
   ]
  },
  {
   "attachments": {},
   "cell_type": "markdown",
   "metadata": {},
   "source": [
    "### Visualisasi Beberapa Kategori"
   ]
  },
  {
   "attachments": {},
   "cell_type": "markdown",
   "metadata": {},
   "source": [
    "Frekuensi Relatif dari masing masing Kolom"
   ]
  },
  {
   "cell_type": "code",
   "execution_count": 6,
   "metadata": {},
   "outputs": [
    {
     "data": {
      "text/plain": [
       "Status Pekerjaan\n",
       "Sudah Bekerja                    0.821918\n",
       "Mahasiswa atau Fresh Graduate    0.178082\n",
       "Name: proportion, dtype: float64"
      ]
     },
     "execution_count": 6,
     "metadata": {},
     "output_type": "execute_result"
    }
   ],
   "source": [
    "data[\"Status Pekerjaan\"].value_counts(normalize=True)"
   ]
  },
  {
   "cell_type": "code",
   "execution_count": 7,
   "metadata": {},
   "outputs": [
    {
     "data": {
      "text/plain": [
       "Rentang Umur\n",
       "24-35            0.442922\n",
       "Lebih dari 35    0.292237\n",
       "18-24            0.264840\n",
       "Name: proportion, dtype: float64"
      ]
     },
     "execution_count": 7,
     "metadata": {},
     "output_type": "execute_result"
    }
   ],
   "source": [
    "data[\"Rentang Umur\"].value_counts(normalize=True)"
   ]
  },
  {
   "attachments": {},
   "cell_type": "markdown",
   "metadata": {},
   "source": [
    "Karena rentetan data lebih sulit dibaca dan dipahami, maka akan kita buat visualisasi untuk beberapa kolom, agar diketahui nilai tertinggi dari masing-masing kategori"
   ]
  },
  {
   "cell_type": "code",
   "execution_count": 8,
   "metadata": {},
   "outputs": [
    {
     "data": {
      "text/plain": [
       "<Axes: xlabel='Darimana Anda Mendaftar Paket Belajar ICS ?', ylabel='count'>"
      ]
     },
     "execution_count": 8,
     "metadata": {},
     "output_type": "execute_result"
    },
    {
     "data": {
      "image/png": "[encoded data removed]",
      "text/plain": [
       "<Figure size 1500x1500 with 4 Axes>"
      ]
     },
     "metadata": {},
     "output_type": "display_data"
    }
   ],
   "source": [
    "fig, axes = plt.subplots(2, 2, figsize=(15, 15))\n",
    "\n",
    "sns.countplot(data=data, x=\"Status Pekerjaan\", ax=axes[0,0])\n",
    "sns.countplot(data=data, x=\"Rentang Umur\", ax=axes[0,1])\n",
    "sns.countplot(data=data, x=\"Pada Pukul Berapa Anda Mendaftar Paket Belajar\", ax=axes[1,0])\n",
    "sns.countplot(data=data, x=\"Darimana Anda Mendaftar Paket Belajar ICS ?\", ax=axes[1,1])"
   ]
  },
  {
   "attachments": {},
   "cell_type": "markdown",
   "metadata": {},
   "source": []
  },
  {
   "attachments": {},
   "cell_type": "markdown",
   "metadata": {},
   "source": [
    "### Kita cari hubungan antara penggunaan media sosial dan rentang umur menggunakan tabulasi silang"
   ]
  },
  {
   "cell_type": "code",
   "execution_count": 9,
   "metadata": {},
   "outputs": [
    {
     "data": {
      "text/html": [
       "<div>\n",
       "<style scoped>\n",
       "    .dataframe tbody tr th:only-of-type {\n",
       "        vertical-align: middle;\n",
       "    }\n",
       "\n",
       "    .dataframe tbody tr th {\n",
       "        vertical-align: top;\n",
       "    }\n",
       "\n",
       "    .dataframe thead th {\n",
       "        text-align: right;\n",
       "    }\n",
       "</style>\n",
       "<table border=\"1\" class=\"dataframe\">\n",
       "  <thead>\n",
       "    <tr style=\"text-align: right;\">\n",
       "      <th>Rentang Umur</th>\n",
       "      <th>18-24</th>\n",
       "      <th>24-35</th>\n",
       "      <th>Lebih dari 35</th>\n",
       "    </tr>\n",
       "    <tr>\n",
       "      <th>Darimana Anda Mendaftar Paket Belajar ICS ?</th>\n",
       "      <th></th>\n",
       "      <th></th>\n",
       "      <th></th>\n",
       "    </tr>\n",
       "  </thead>\n",
       "  <tbody>\n",
       "    <tr>\n",
       "      <th>Facebook</th>\n",
       "      <td>7</td>\n",
       "      <td>42</td>\n",
       "      <td>47</td>\n",
       "    </tr>\n",
       "    <tr>\n",
       "      <th>Instagram</th>\n",
       "      <td>49</td>\n",
       "      <td>46</td>\n",
       "      <td>9</td>\n",
       "    </tr>\n",
       "  </tbody>\n",
       "</table>\n",
       "</div>"
      ],
      "text/plain": [
       "Rentang Umur                                 18-24  24-35  Lebih dari 35\n",
       "Darimana Anda Mendaftar Paket Belajar ICS ?                             \n",
       "Facebook                                         7     42             47\n",
       "Instagram                                       49     46              9"
      ]
     },
     "execution_count": 9,
     "metadata": {},
     "output_type": "execute_result"
    }
   ],
   "source": [
    "RT = pd.crosstab(data['Darimana Anda Mendaftar Paket Belajar ICS ?'], data['Rentang Umur'])\n",
    "RT.iloc[1:3,:]"
   ]
  },
  {
   "attachments": {},
   "cell_type": "markdown",
   "metadata": {},
   "source": [
    "Dapat dilihat bahwa untuk penggunaan Sosial Media dipengaruhi oleh rentang Umur, disini kita tahu bahwa untuk umur 18-35 menggunakan sosial media Instagram, sedangkan untuk rentang umur diatas 35 menggunakan Facebook"
   ]
  },
  {
   "cell_type": "code",
   "execution_count": 10,
   "metadata": {},
   "outputs": [
    {
     "data": {
      "text/html": [
       "<div>\n",
       "<style scoped>\n",
       "    .dataframe tbody tr th:only-of-type {\n",
       "        vertical-align: middle;\n",
       "    }\n",
       "\n",
       "    .dataframe tbody tr th {\n",
       "        vertical-align: top;\n",
       "    }\n",
       "\n",
       "    .dataframe thead th {\n",
       "        text-align: right;\n",
       "    }\n",
       "</style>\n",
       "<table border=\"1\" class=\"dataframe\">\n",
       "  <thead>\n",
       "    <tr style=\"text-align: right;\">\n",
       "      <th>Pada Pukul Berapa Anda Mendaftar Paket Belajar</th>\n",
       "      <th>08.00 - 12.00</th>\n",
       "      <th>13.00 - 16.00</th>\n",
       "      <th>16.00 - 18.00</th>\n",
       "      <th>18.00 - 20.00</th>\n",
       "      <th>Diatas 20.00</th>\n",
       "    </tr>\n",
       "    <tr>\n",
       "      <th>Darimana Anda Mendaftar Paket Belajar ICS ?</th>\n",
       "      <th></th>\n",
       "      <th></th>\n",
       "      <th></th>\n",
       "      <th></th>\n",
       "      <th></th>\n",
       "    </tr>\n",
       "  </thead>\n",
       "  <tbody>\n",
       "    <tr>\n",
       "      <th>Facebook</th>\n",
       "      <td>23</td>\n",
       "      <td>13</td>\n",
       "      <td>11</td>\n",
       "      <td>26</td>\n",
       "      <td>23</td>\n",
       "    </tr>\n",
       "    <tr>\n",
       "      <th>Instagram</th>\n",
       "      <td>17</td>\n",
       "      <td>17</td>\n",
       "      <td>21</td>\n",
       "      <td>28</td>\n",
       "      <td>21</td>\n",
       "    </tr>\n",
       "  </tbody>\n",
       "</table>\n",
       "</div>"
      ],
      "text/plain": [
       "Pada Pukul Berapa Anda Mendaftar Paket Belajar  08.00 - 12.00  13.00 - 16.00   \n",
       "Darimana Anda Mendaftar Paket Belajar ICS ?                                    \n",
       "Facebook                                                   23             13  \\\n",
       "Instagram                                                  17             17   \n",
       "\n",
       "Pada Pukul Berapa Anda Mendaftar Paket Belajar  16.00 - 18.00  18.00 - 20.00   \n",
       "Darimana Anda Mendaftar Paket Belajar ICS ?                                    \n",
       "Facebook                                                   11             26  \\\n",
       "Instagram                                                  21             28   \n",
       "\n",
       "Pada Pukul Berapa Anda Mendaftar Paket Belajar  Diatas 20.00  \n",
       "Darimana Anda Mendaftar Paket Belajar ICS ?                   \n",
       "Facebook                                                  23  \n",
       "Instagram                                                 21  "
      ]
     },
     "execution_count": 10,
     "metadata": {},
     "output_type": "execute_result"
    }
   ],
   "source": [
    "JT = pd.crosstab(data['Darimana Anda Mendaftar Paket Belajar ICS ?'], data['Pada Pukul Berapa Anda Mendaftar Paket Belajar'])\n",
    "# Kita ambil untuk dua sosial media yakni facebook dan instagram\n",
    "JT.iloc[1:3,:]"
   ]
  },
  {
   "cell_type": "code",
   "execution_count": 16,
   "metadata": {},
   "outputs": [
    {
     "data": {
      "text/plain": [
       "<Axes: xlabel='Darimana Anda Mendaftar Paket Belajar ICS ?', ylabel='Count'>"
      ]
     },
     "execution_count": 16,
     "metadata": {},
     "output_type": "execute_result"
    },
    {
     "data": {
      "image/png": "[encoded data removed]",
      "text/plain": [
       "<Figure size 2000x1000 with 2 Axes>"
      ]
     },
     "metadata": {},
     "output_type": "display_data"
    }
   ],
   "source": [
    "#Plot antara Rentang Umur dan Preferensi Form\n",
    "fig, axes = plt.subplots(2, 1, figsize=(20,10))\n",
    "\n",
    "sns.histplot(binwidth=0.5,\n",
    "            x='Darimana Anda Mendaftar Paket Belajar ICS ?',\n",
    "            hue='Rentang Umur',\n",
    "            data=data,\n",
    "            stat=\"count\",\n",
    "            multiple=\"dodge\", ax=axes[0])\n",
    "\n",
    "sns.histplot(binwidth=0.5,\n",
    "            x='Darimana Anda Mendaftar Paket Belajar ICS ?',\n",
    "            hue='Pada Pukul Berapa Anda Mendaftar Paket Belajar',\n",
    "            data=data,\n",
    "            stat=\"count\",\n",
    "            multiple=\"dodge\", ax=axes[1])"
   ]
  },
  {
   "attachments": {},
   "cell_type": "markdown",
   "metadata": {},
   "source": []
  },
  {
   "attachments": {},
   "cell_type": "markdown",
   "metadata": {},
   "source": [
    "### Mencari Hubungan antara dua variabel kategori dengan Chi Square Test"
   ]
  },
  {
   "attachments": {},
   "cell_type": "markdown",
   "metadata": {},
   "source": [
    "Untuk membuktikan adanya relasi antara dua variabel yang memiliki bentuk kategori, maka akan dilakukan Chi Square Test, disini kita memiliki dua hipotesis, dan tujuan kita adalah mengecek apakah Ada Relasi antara dua variabel (Menolak Hipotesis Null)"
   ]
  },
  {
   "cell_type": "code",
   "execution_count": 23,
   "metadata": {},
   "outputs": [
    {
     "data": {
      "text/html": [
       "<div>\n",
       "<style scoped>\n",
       "    .dataframe tbody tr th:only-of-type {\n",
       "        vertical-align: middle;\n",
       "    }\n",
       "\n",
       "    .dataframe tbody tr th {\n",
       "        vertical-align: top;\n",
       "    }\n",
       "\n",
       "    .dataframe thead th {\n",
       "        text-align: right;\n",
       "    }\n",
       "</style>\n",
       "<table border=\"1\" class=\"dataframe\">\n",
       "  <thead>\n",
       "    <tr style=\"text-align: right;\">\n",
       "      <th></th>\n",
       "      <th>Value</th>\n",
       "    </tr>\n",
       "  </thead>\n",
       "  <tbody>\n",
       "    <tr>\n",
       "      <th>Statistic</th>\n",
       "      <td>57.239115</td>\n",
       "    </tr>\n",
       "    <tr>\n",
       "      <th>P Value</th>\n",
       "      <td>0.0</td>\n",
       "    </tr>\n",
       "    <tr>\n",
       "      <th>DOF</th>\n",
       "      <td>2</td>\n",
       "    </tr>\n",
       "    <tr>\n",
       "      <th>Exp Freq</th>\n",
       "      <td>[[26.88, 42.24, 26.88], [29.12, 45.76, 29.12]]</td>\n",
       "    </tr>\n",
       "  </tbody>\n",
       "</table>\n",
       "</div>"
      ],
      "text/plain": [
       "                                                    Value\n",
       "Statistic                                       57.239115\n",
       "P Value                                               0.0\n",
       "DOF                                                     2\n",
       "Exp Freq   [[26.88, 42.24, 26.88], [29.12, 45.76, 29.12]]"
      ]
     },
     "execution_count": 23,
     "metadata": {},
     "output_type": "execute_result"
    }
   ],
   "source": [
    "Hasil_Chi2_a = st.chi2_contingency(RT.iloc[1:3,:])\n",
    "pd.DataFrame(Hasil_Chi2_a, index=[\"Statistic\", \"P Value\",\"DOF\", \"Exp Freq\"], columns=[\"Value\"])"
   ]
  },
  {
   "cell_type": "code",
   "execution_count": 24,
   "metadata": {},
   "outputs": [
    {
     "data": {
      "text/html": [
       "<div>\n",
       "<style scoped>\n",
       "    .dataframe tbody tr th:only-of-type {\n",
       "        vertical-align: middle;\n",
       "    }\n",
       "\n",
       "    .dataframe tbody tr th {\n",
       "        vertical-align: top;\n",
       "    }\n",
       "\n",
       "    .dataframe thead th {\n",
       "        text-align: right;\n",
       "    }\n",
       "</style>\n",
       "<table border=\"1\" class=\"dataframe\">\n",
       "  <thead>\n",
       "    <tr style=\"text-align: right;\">\n",
       "      <th></th>\n",
       "      <th>Value</th>\n",
       "    </tr>\n",
       "  </thead>\n",
       "  <tbody>\n",
       "    <tr>\n",
       "      <th>Statistic</th>\n",
       "      <td>4.410373</td>\n",
       "    </tr>\n",
       "    <tr>\n",
       "      <th>P Value</th>\n",
       "      <td>0.353308</td>\n",
       "    </tr>\n",
       "    <tr>\n",
       "      <th>DOF</th>\n",
       "      <td>4</td>\n",
       "    </tr>\n",
       "    <tr>\n",
       "      <th>Exp Freq</th>\n",
       "      <td>[[19.2, 14.4, 15.36, 25.92, 21.12], [20.8, 15....</td>\n",
       "    </tr>\n",
       "  </tbody>\n",
       "</table>\n",
       "</div>"
      ],
      "text/plain": [
       "                                                       Value\n",
       "Statistic                                           4.410373\n",
       "P Value                                             0.353308\n",
       "DOF                                                        4\n",
       "Exp Freq   [[19.2, 14.4, 15.36, 25.92, 21.12], [20.8, 15...."
      ]
     },
     "execution_count": 24,
     "metadata": {},
     "output_type": "execute_result"
    }
   ],
   "source": [
    "Hasil_Chi2_b = st.chi2_contingency(JT.iloc[1:3,:])\n",
    "pd.DataFrame(Hasil_Chi2_b, index=[\"Statistic\", \"P Value\",\"DOF\", \"Exp Freq\"], columns=[\"Value\"])"
   ]
  },
  {
   "attachments": {},
   "cell_type": "markdown",
   "metadata": {},
   "source": [
    "### Mencari Topik Materi dengan *Request* Terbanyak"
   ]
  },
  {
   "cell_type": "code",
   "execution_count": 27,
   "metadata": {},
   "outputs": [
    {
     "data": {
      "text/plain": [
       "<Axes: xlabel='Request', ylabel='count'>"
      ]
     },
     "execution_count": 27,
     "metadata": {},
     "output_type": "execute_result"
    },
    {
     "data": {
      "image/png": "[encoded data removed]",
      "text/plain": [
       "<Figure size 1500x600 with 1 Axes>"
      ]
     },
     "metadata": {},
     "output_type": "display_data"
    }
   ],
   "source": [
    "\n",
    "#Untuk mencari string yang kita inginkan, kita list kan terlebih dahulu keyword\n",
    "request = [\"IIoT dan Machine Learning\", \"PLC Baru(Omron dan AB)\", \"Motor\",\"SCADA\", \"Instrumen\"]\n",
    "\n",
    "iiot = \"IIOT|IOT|IoT|IIoT|iiot|iot|Arduino|Raspberry Pi|arduino|Modbus|modbus|web|Web|Machine Learning|ML|machine learning|ml|AI|Python|python\"\n",
    "AllenB = \"PLC|plc|Plc|Omron|omron|DCS|Allen-Bradley|AB|Allen Bradley|allen bradley\"\n",
    "Motor = \"Motor|Servo|Encoder|servo|motor|encoder|SERVO\"\n",
    "SCADA = \"hmi|SCADA|scada|Scada|Hmi|HMI\"\n",
    "Instrumen = \"Instrument|instrumen|Instrumen|sensor|Sensor|Penumatic|pneumatic|Listrik|Arus|arus|listrik|wiring|wire|Wiring\"\n",
    "\n",
    "kondisi = [(data['Materi Apa yang Diperlukan Selanjutnya Menurut Anda ?'].str.contains(iiot)),\n",
    "            (data['Materi Apa yang Diperlukan Selanjutnya Menurut Anda ?'].str.contains(AllenB)),\n",
    "            (data['Materi Apa yang Diperlukan Selanjutnya Menurut Anda ?'].str.contains(Motor)),\n",
    "            (data['Materi Apa yang Diperlukan Selanjutnya Menurut Anda ?'].str.contains(SCADA)),\n",
    "            (data['Materi Apa yang Diperlukan Selanjutnya Menurut Anda ?'].str.contains(Instrumen))]\n",
    "\n",
    "data[\"Request\"] = np.select(kondisi, request, default=\"Other\")\n",
    "\n",
    "#Kita visualisasi\n",
    "plt.figure(figsize=(15,6))\n",
    "sns.countplot(data=data, x=\"Request\")"
   ]
  },
  {
   "attachments": {},
   "cell_type": "markdown",
   "metadata": {},
   "source": []
  },
  {
   "attachments": {},
   "cell_type": "markdown",
   "metadata": {},
   "source": [
    "## KESIMPULAN"
   ]
  },
  {
   "attachments": {},
   "cell_type": "markdown",
   "metadata": {},
   "source": [
    "Dari sini maka kita dapat mengambil beberapa kesimpulan dari proses analisa data diatas \n",
    "\n",
    "<ol>\n",
    "<li>Yang pertama bahwa dari data yang didapat untuk rentang umur paling tinggi adalah 24-35 yang membuktikkan bahwa usia kerja muda dan freshgraduate mendominasi peserta Paket Belajar. Dengan daerha terbanyak ada di Jabodetabek.</li>\n",
    "<li>Yang kedua untuk hubungan antara dua variabel, dapat disimpulkan adanya pengelompokan user dengan rentang umur tertentu untuk penggunaan media sosial. Dimana peserta umur diatas 35 mayoritas menggunakan Facebook sedangkan peserta rentang umur 18-24 mayoritas menggunakan Instagram. Dengan peserta umur 24-35 seimbang antara Facebook dan Instagram. Hal ini sangat oenting, agar saat campaign iklan untuk masing-masing platform dapat dikustomisasi berdasarkan umur pengguna</li>\n",
    "<li>Yang ketiga dari hubungan antara penggunaan media sosial dan jam pendaftaran. Dapat disimpulkan bahwa baik Instagram dan Facebook memiliki waktu paling ramai saat pukul 18.00-20.00.</li>\n",
    "<li>Yang terakhir bahwa </li>\n",
    "</ol> "
   ]
  }
 ],
 "metadata": {
  "kernelspec": {
   "display_name": "Python 3",
   "language": "python",
   "name": "python3"
  },
  "language_info": {
   "codemirror_mode": {
    "name": "ipython",
    "version": 3
   },
   "file_extension": ".py",
   "mimetype": "text/x-python",
   "name": "python",
   "nbconvert_exporter": "python",
   "pygments_lexer": "ipython3",
   "version": "3.11.2"
  },
  "orig_nbformat": 4
 },
 "nbformat": 4,
 "nbformat_minor": 2
}
